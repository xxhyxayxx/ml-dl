{
  "nbformat": 4,
  "nbformat_minor": 0,
  "metadata": {
    "colab": {
      "provenance": [],
      "authorship_tag": "ABX9TyPn2Mfd8PYIbAhovdtA8esQ",
      "include_colab_link": true
    },
    "kernelspec": {
      "name": "python3",
      "display_name": "Python 3"
    },
    "language_info": {
      "name": "python"
    }
  },
  "cells": [
    {
      "cell_type": "markdown",
      "metadata": {
        "id": "view-in-github",
        "colab_type": "text"
      },
      "source": [
        "<a href=\"https://colab.research.google.com/github/xxhyxayxx/ml-dl/blob/main/LogisticRegression.ipynb\" target=\"_parent\"><img src=\"https://colab.research.google.com/assets/colab-badge.svg\" alt=\"Open In Colab\"/></a>"
      ]
    },
    {
      "cell_type": "code",
      "source": [
        "import numpy as np\n",
        "import matplotlib.pyplot as plt\n",
        "from sklearn.datasets import make_classification\n",
        "from sklearn.model_selection import train_test_split"
      ],
      "metadata": {
        "id": "ULfT4V19nimL"
      },
      "execution_count": 1,
      "outputs": []
    },
    {
      "cell_type": "markdown",
      "source": [
        "# 1. データ作成\n",
        "ここで、make_classification 関数は、二値分類用のデータセットを生成している\n",
        "\n",
        "- n_samples=100：100個のサンプルデータ（データポイント）を生成。\n",
        "- n_features=1：1つの特徴量（入力変数）を持つデータを生成。この例では、特徴量は1つだけなので、モデルは1次元のデータで学習。\n",
        "- n_informative=1：1つの特徴量がターゲット（出力）に関連する「有効な」特徴として生成される。\n",
        "- n_redundant=0：予測に無関係な「冗長な」特徴量は生成しない。\n",
        "- n_clusters_per_class=1：クラスごとに1つのデータクラスタを生成。これにより、クラスが明確に分かれるシンプルなデータセットになる。\n",
        "- random_state=42：乱数シードを指定して、実行ごとに同じデータセットが生成されるようにする。\n",
        "これにより、二値分類用のラベル付きデータセットが作成され、X が特徴量（入力データ）、y がラベル（出力クラス、0か1）として返される。"
      ],
      "metadata": {
        "id": "wfhGXUc6oibs"
      }
    },
    {
      "cell_type": "code",
      "source": [
        "X, y = make_classification(n_samples=100, n_features=1, n_informative=1, n_redundant=0, n_clusters_per_class=1, random_state=0)"
      ],
      "metadata": {
        "id": "zhFRRvOSni9B"
      },
      "execution_count": 2,
      "outputs": []
    },
    {
      "cell_type": "markdown",
      "source": [
        "# 2. データの分割\n",
        "- train_test_split は、データを訓練セットとテストセットに分割する関数。\n",
        "- test_size=0.2 は、全体のデータの20％をテストセットに、残りの80％を訓練セットにする。\n",
        "- random_state=0 は再現性のためのシードで、同じ分割が再現される。\n",
        "\n",
        "訓練データとテストデータを分けるのは、モデルの性能を客観的に評価するため。機械学習モデルはデータを使って学習（訓練）を行うが、学習に使ったデータではなく、初見のデータに対しても良い予測ができるかどうかを確認する必要がある。これは、モデルが新しいデータにも適切に対応できる「汎化能力」を持っているかを評価するため。\n",
        "\n",
        "#### 訓練用データとテスト用データの役割\n",
        "- 訓練データ（Training Data）モデルが学習に使うデータ。ここでモデルはデータ内のパターンや規則性を見つけ、パラメータ（重みなど）を調整していく。\n",
        "訓練データに対する誤差を最小化するように学習が進む。\n",
        "- テストデータ（Test Data）訓練されたモデルの性能を評価するために使うデータ。\n",
        "テストデータはモデルが「学習に使っていない」データなので、**未知のデータに対する予測力（汎化性能）**を確認するための指標となる。\n",
        "テストデータでの性能が良ければ、モデルは新しいデータにも適切に対応できる可能性が高いと判断できる。\n",
        "\n",
        "#### なぜ分けるのか：過学習を防ぐため\n",
        "モデルが訓練データに対して高い精度を持っていたとしても、それが新しいデータに対しても適用できるとは限らない。過剰に訓練データに合わせて学習すると、訓練データにしか通用しない「過学習（オーバーフィッティング）」が発生する。過学習が起きると、新しいデータでは誤差が大きくなり、正確に予測できなくなる。\n",
        "\n",
        "テストデータを使うことで、モデルが訓練データに過剰適合していないか（過学習していないか）を確認し、新しいデータでも適切な性能を発揮できるモデルかを評価できる。\n",
        "\n",
        "クロスバリデーション（交差検証）もモデルの汎化性能を評価するために使われる重要な手法。クロスバリデーションは、データセットを訓練データとテストデータに分けるだけでなく、複数の組み合わせでモデルを評価することにより、より信頼性の高い性能評価が可能になる。\n",
        "\n",
        "\n",
        "\n",
        "#### 用語\n",
        "- X：特徴量（入力データ）で、ここでは100個のデータポイントが含まれる。\n",
        "- y：各データポイントに対するラベル（0か1のクラス）で、目標となる出力。\n",
        "- X_train、y_train：モデルの訓練に使うデータ。\n",
        "- X_test、y_test：訓練後のモデルを評価するためのテストデータ。"
      ],
      "metadata": {
        "id": "3H07uxG6pCt3"
      }
    },
    {
      "cell_type": "code",
      "source": [
        "X_train, X_test, y_train, y_test = train_test_split(X, y, test_size=0.2, random_state=0)"
      ],
      "metadata": {
        "id": "W0GwWocoohNi"
      },
      "execution_count": 4,
      "outputs": []
    },
    {
      "cell_type": "markdown",
      "source": [
        "# 3. シグモイド関数\n",
        "\n",
        "シグモイド関数は **0か1の「確率」** を返すものだが、実際には0や1だけでなく、**0から1の範囲の連続的な値**を出力する。シグモイド関数は、「このデータがクラス1（たとえばYesやPositive）に属する確率」を表すもので、完全な0や1ではなく、確率値。\n",
        "\n",
        "### シグモイド関数の役割\n",
        "シグモイド関数は、入力の線形結合 $z = Xw + b$ を次のように確率値（0から1の範囲の連続値）に変換する：\n",
        "\n",
        "$$\n",
        "\\sigma(z) = \\frac{1}{1 + e^{-z}}\n",
        "$$\n",
        "\n",
        "- $z$ が非常に大きい正の値なら、シグモイド関数の出力は1に近づく。\n",
        "- $z$ が非常に小さい（大きな負の値）なら、シグモイド関数の出力は0に近づく。\n",
        "\n",
        "### どのように0か1に変換するか？\n",
        "ロジスティック回帰では、シグモイド関数の出力はあくまで**確率（0と1の間の値）**。この確率をもとに「0か1か」を決めるために、**閾値（しきい値）**を設定する。\n",
        "\n",
        "#### 通常の設定\n",
        "一般的に、閾値 **0.5** を用いて次のように分類する：\n",
        "\n",
        "- シグモイド関数の出力が **0.5以上**なら「1」と予測（クラス1、Positive、Yesなど）。\n",
        "- シグモイド関数の出力が **0.5未満**なら「0」と予測（クラス0、Negative、Noなど）。\n",
        "\n",
        "### 例\n",
        "たとえば、ロジスティック回帰で部屋の広さをもとに、ある物件が借り手に選ばれる確率を予測するとする。\n",
        "\n",
        "1. 部屋の広さデータから線形結合 $z = Xw + b$ を計算した結果、$z = 1.2$ だったとする。\n",
        "2. シグモイド関数で計算すると、出力はおよそ $\\sigma(1.2) \\approx 0.77$ 。\n",
        "3. この確率0.77が、閾値0.5を超えているため、「1」と予測される。つまり、「この物件は借り手に選ばれる可能性が高い」と判断される。"
      ],
      "metadata": {
        "id": "6_ao5jL0sO-W"
      }
    },
    {
      "cell_type": "code",
      "source": [
        "# シグモイド関数\n",
        "def sigmoid(z):\n",
        "    return 1 / (1 + np.exp(-z))"
      ],
      "metadata": {
        "id": "zxm6DQICpV6U"
      },
      "execution_count": 5,
      "outputs": []
    },
    {
      "cell_type": "markdown",
      "source": [
        "# 4. 交差エントロピー損失\n",
        "\n",
        "ロジスティック回帰では、モデルの出力が確率として表現される。交差エントロピー損失は、モデルの予測（確率）と実際のラベル（0または1）の間の**不確実性を最小化すること**を目的としている。これを達成するために、交差エントロピー損失の式は以下のように定義される：\n",
        "\n",
        "$$\n",
        "\\text{Loss}(y, \\hat{y}) = -\\frac{1}{m} \\sum_{i=1}^{m} \\left( y_i \\log(\\hat{y}_i) + (1 - y_i) \\log(1 - \\hat{y}_i) \\right)\n",
        "$$\n",
        "\n",
        "- この式は、**エントロピーの拡張**であり、実際のクラス $y_i$ と予測確率 $\\hat{y}_i$ がどれだけ一致しているかを示すもの。\n",
        "- 実際のラベルが1の場合は $-\\log(\\hat{y}_i)$、ラベルが0の場合は $-\\log(1 - \\hat{y}_i)$ を用いることで、モデルが正しい確率に近い予測をするほど、損失が小さくなる。\n",
        "\n",
        "対数を使うことで、**確率が極端（0や1に近い）な場合に損失が大きく変化**するようにしている。これは、モデルが予測に自信を持っている（確率が1に近い）場合や全く自信がない（確率が0に近い）場合に大きな影響を与える。\n",
        "\n",
        "- 正しいクラスの確率が高ければ、損失は非常に小さくなる。\n",
        "- 誤ったクラスの確率が高いと損失が急激に大きくなり、モデルにペナルティを与えることになる。"
      ],
      "metadata": {
        "id": "TNas1Sj_waAK"
      }
    },
    {
      "cell_type": "code",
      "source": [
        "# ロジスティック回帰のコスト関数と勾配\n",
        "def compute_cost_and_gradients(X, y, w, b):\n",
        "    m = X.shape[0]\n",
        "    z = np.dot(X, w) + b\n",
        "    y_pred = sigmoid(z)\n",
        "    cost = (-1 / m) * np.sum(y * np.log(y_pred) + (1 - y) * np.log(1 - y_pred))\n",
        "\n",
        "    dw = (1 / m) * np.dot(X.T, (y_pred - y))\n",
        "    db = (1 / m) * np.sum(y_pred - y)\n",
        "\n",
        "    return cost, dw, db"
      ],
      "metadata": {
        "id": "DbrTQf1StO36"
      },
      "execution_count": 6,
      "outputs": []
    },
    {
      "cell_type": "code",
      "source": [
        "# 勾配降下法でロジスティック回帰を実行\n",
        "def logistic_regression(X, y, learning_rate, n_iterations):\n",
        "    w = np.random.randn(X.shape[1])\n",
        "    b = 0\n",
        "    cost_history = []\n",
        "\n",
        "    for i in range(n_iterations):\n",
        "        cost, dw, db = compute_cost_and_gradients(X, y, w, b)\n",
        "        w -= learning_rate * dw\n",
        "        b -= learning_rate * db\n",
        "        cost_history.append(cost)\n",
        "\n",
        "        if i % 100 == 0:\n",
        "            print(f\"Iteration {i}: Cost = {cost}\")\n",
        "\n",
        "    return w, b, cost_history"
      ],
      "metadata": {
        "id": "rxij98v-z_OG"
      },
      "execution_count": 7,
      "outputs": []
    },
    {
      "cell_type": "code",
      "source": [
        "# ハイパーパラメータ\n",
        "learning_rate = 0.1\n",
        "n_iterations = 1000"
      ],
      "metadata": {
        "id": "G_gLTEXe0E9O"
      },
      "execution_count": 8,
      "outputs": []
    },
    {
      "cell_type": "code",
      "source": [
        "# 学習\n",
        "w, b, cost_history = logistic_regression(X_train, y_train, learning_rate, n_iterations)"
      ],
      "metadata": {
        "colab": {
          "base_uri": "https://localhost:8080/"
        },
        "id": "4dLEsobD0Nv5",
        "outputId": "c9f804f5-4b6e-47db-f07a-68fc0ab36389"
      },
      "execution_count": 9,
      "outputs": [
        {
          "output_type": "stream",
          "name": "stdout",
          "text": [
            "Iteration 0: Cost = 0.4691232576341091\n",
            "Iteration 100: Cost = 0.10159220029244508\n",
            "Iteration 200: Cost = 0.0557808519478645\n",
            "Iteration 300: Cost = 0.03852966984352607\n",
            "Iteration 400: Cost = 0.02949819436767824\n",
            "Iteration 500: Cost = 0.023939716247646414\n",
            "Iteration 600: Cost = 0.020171120601315057\n",
            "Iteration 700: Cost = 0.017445738627975573\n",
            "Iteration 800: Cost = 0.015381726994631965\n",
            "Iteration 900: Cost = 0.013763495850134744\n"
          ]
        }
      ]
    },
    {
      "cell_type": "code",
      "source": [
        "# コストの推移をプロット\n",
        "plt.plot(cost_history)\n",
        "plt.xlabel(\"Iterations\")\n",
        "plt.ylabel(\"Cost\")\n",
        "plt.title(\"Cost Reduction Over Iterations\")\n",
        "plt.show()"
      ],
      "metadata": {
        "colab": {
          "base_uri": "https://localhost:8080/",
          "height": 472
        },
        "id": "eEtEmRL40RBW",
        "outputId": "708f10b0-1a96-43c2-9377-ac339c8000f8"
      },
      "execution_count": 10,
      "outputs": [
        {
          "output_type": "display_data",
          "data": {
            "text/plain": [
              "<Figure size 640x480 with 1 Axes>"
            ],
            "image/png": "[encoded data removed]"
          },
          "metadata": {}
        }
      ]
    },
    {
      "cell_type": "code",
      "source": [
        "# テストデータの予測と分類\n",
        "y_pred_prob = sigmoid(np.dot(X_test, w) + b)\n",
        "y_pred_class = (y_pred_prob >= 0.5).astype(int)"
      ],
      "metadata": {
        "id": "FHPOc4Di0Zes"
      },
      "execution_count": 11,
      "outputs": []
    },
    {
      "cell_type": "code",
      "source": [
        "# データと学習結果のプロット\n",
        "plt.scatter(X_test, y_test, color=\"blue\", label=\"Actual data\")\n",
        "plt.scatter(X_test, y_pred_prob, color=\"red\", marker='x', label=\"Predicted probabilities\")\n",
        "plt.xlabel(\"Feature (X)\")\n",
        "plt.ylabel(\"Probability / Class\")\n",
        "plt.legend()\n",
        "plt.show()"
      ],
      "metadata": {
        "colab": {
          "base_uri": "https://localhost:8080/",
          "height": 449
        },
        "id": "K8JNcSET0Z_e",
        "outputId": "a9cd7a0d-7836-4ae2-bbe2-05bfe246aff3"
      },
      "execution_count": 14,
      "outputs": [
        {
          "output_type": "display_data",
          "data": {
            "text/plain": [
              "<Figure size 640x480 with 1 Axes>"
            ],
            "image/png": "[encoded data removed]"
          },
          "metadata": {}
        }
      ]
    },
    {
      "cell_type": "code",
      "source": [],
      "metadata": {
        "id": "cWZYE-Bs0cHL"
      },
      "execution_count": null,
      "outputs": []
    }
  ]
}